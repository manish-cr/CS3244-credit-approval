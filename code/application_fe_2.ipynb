{
  "cells": [
    {
      "cell_type": "code",
      "execution_count": 2,
      "metadata": {
        "id": "gZDrpdMfJfXE"
      },
      "outputs": [],
      "source": [
        "# Import libraries\n",
        "import numpy as np\n",
        "import pandas as pd\n",
        "import matplotlib.pyplot as plt\n",
        "%matplotlib inline\n",
        "\n",
        "from sklearn.feature_selection import mutual_info_classif\n",
        "from sklearn.model_selection import KFold, train_test_split\n",
        "from sklearn.compose import ColumnTransformer\n",
        "from sklearn.preprocessing import StandardScaler, OneHotEncoder, LabelEncoder"
      ]
    },
    {
      "cell_type": "code",
      "execution_count": 1,
      "metadata": {},
      "outputs": [],
      "source": [
        "# Download cleaned data from project github\n",
        "url_application = \"https://raw.githubusercontent.com/manish-cr/CS3244-credit-approval/master/data/application_cleaned.csv\"\n",
        "\n",
        "# Download the 2 & 3 labelled data from project github\n",
        "test_data_2label_url = \"https://raw.githubusercontent.com/manish-cr/CS3244-credit-approval/master/data/credit_cleaned_test_twolabels.csv\"\n",
        "test_data_3label_url = \"https://raw.githubusercontent.com/manish-cr/CS3244-credit-approval/master/data/credit_cleaned_test_threelabels.csv\"\n",
        "\n",
        "train_data_2label_url = \"https://raw.githubusercontent.com/manish-cr/CS3244-credit-approval/master/data/credit_cleaned_training_twolabels.csv\"\n",
        "train_data_3label_url = \"https://raw.githubusercontent.com/manish-cr/CS3244-credit-approval/master/data/credit_cleaned_training_threelabels.csv\""
      ]
    },
    {
      "cell_type": "code",
      "execution_count": 3,
      "metadata": {},
      "outputs": [],
      "source": [
        "# Train + Test data labels (2 label and 3 label versions)\n",
        "train_data_2label = pd.read_csv(train_data_2label_url)\n",
        "train_data_3label = pd.read_csv(train_data_3label_url)\n",
        "\n",
        "test_data_2label = pd.read_csv(test_data_2label_url)\n",
        "test_data_3label = pd.read_csv(test_data_3label_url)\n",
        "\n",
        "# Cleaned data\n",
        "application_df = pd.read_csv(url_application)"
      ]
    },
    {
      "cell_type": "code",
      "execution_count": 4,
      "metadata": {},
      "outputs": [],
      "source": [
        "# Only the Label column is needed, ID is used as the key when merging the datasets\n",
        "credit_train_2label = train_data_2label[['ID', 'Credit_Status']]\n",
        "credit_train_3label = train_data_3label[['ID', 'Credit_Status']]\n",
        "\n",
        "credit_test_2label = test_data_2label[['ID', 'Credit_Status']]\n",
        "credit_test_3label = test_data_3label[['ID', 'Credit_Status']]"
      ]
    },
    {
      "cell_type": "code",
      "execution_count": 5,
      "metadata": {},
      "outputs": [],
      "source": [
        "# Merging application and credit csv based on ID\n",
        "train_2label_df = pd.merge(application_df, credit_train_2label, how=\"inner\", on=\"ID\").loc[:,'ID':]\n",
        "test_2label_df = pd.merge(application_df, credit_test_2label, how=\"inner\", on=\"ID\").loc[:,'ID':]\n",
        "\n",
        "train_3label_df = pd.merge(application_df, credit_train_3label, how=\"inner\", on=\"ID\").loc[:,'ID':]\n",
        "test_3label_df = pd.merge(application_df, credit_test_3label, how=\"inner\", on=\"ID\").loc[:,'ID':]"
      ]
    },
    {
      "cell_type": "code",
      "execution_count": 6,
      "metadata": {},
      "outputs": [],
      "source": [
        "# need to fix these dtype from int64 to categorical\n",
        "columns_to_convert = ['FLAG_WORK_PHONE', 'FLAG_PHONE', 'FLAG_EMAIL']\n",
        "\n",
        "# Convert the data type of the specified columns to object\n",
        "train_2label_df[columns_to_convert] = train_2label_df[columns_to_convert].astype('object')\n",
        "train_3label_df[columns_to_convert] = train_3label_df[columns_to_convert].astype('object')\n",
        "\n",
        "test_2label_df[columns_to_convert] = test_2label_df[columns_to_convert].astype('object')\n",
        "test_3label_df[columns_to_convert] = test_3label_df[columns_to_convert].astype('object')"
      ]
    },
    {
      "cell_type": "code",
      "execution_count": 7,
      "metadata": {},
      "outputs": [],
      "source": [
        "# Separating the data into X and y\n",
        "X_train_2label = train_2label_df.loc[:, \"CODE_GENDER\":\"CNT_FAM_MEMBERS\"]\n",
        "y_train_2label = train_2label_df[\"Credit_Status\"]\n",
        "\n",
        "X_train_3label = train_3label_df.loc[:, \"CODE_GENDER\":\"CNT_FAM_MEMBERS\"]\n",
        "y_train_3label = train_3label_df[\"Credit_Status\"]\n",
        "\n",
        "X_test_2label = test_2label_df.loc[:, \"CODE_GENDER\":\"CNT_FAM_MEMBERS\"]\n",
        "y_test_2label = test_2label_df[\"Credit_Status\"]\n",
        "\n",
        "X_test_3label = test_3label_df.loc[:, \"CODE_GENDER\":\"CNT_FAM_MEMBERS\"]\n",
        "y_test_3label = test_3label_df[\"Credit_Status\"]"
      ]
    },
    {
      "cell_type": "code",
      "execution_count": 9,
      "metadata": {},
      "outputs": [],
      "source": [
        "# Identifying the columns that are of type int64 and float64 (for train)\n",
        "numeric_col = []\n",
        "for names in X_train_2label.columns:\n",
        "  if X_train_2label[names].dtypes in ['int64', 'float64']:\n",
        "    numeric_col.append(names)\n",
        "\n",
        "# Standardising the columns of type int64 and float64\n",
        "features = X_train_2label[numeric_col]\n",
        "scaler = StandardScaler().fit(features.values)\n",
        "features = scaler.transform(features.values)\n",
        "X_train_2label[numeric_col] = features\n",
        "\n",
        "features = X_train_3label[numeric_col]\n",
        "scaler = StandardScaler().fit(features.values)\n",
        "features = scaler.transform(features.values)\n",
        "X_train_3label[numeric_col] = features\n",
        "\n",
        "# for test\n",
        "features = X_test_2label[numeric_col]\n",
        "scaler = StandardScaler().fit(features.values)\n",
        "features = scaler.transform(features.values)\n",
        "X_test_2label[numeric_col] = features\n",
        "\n",
        "features = X_test_3label[numeric_col]\n",
        "scaler = StandardScaler().fit(features.values)\n",
        "features = scaler.transform(features.values)\n",
        "X_test_3label[numeric_col] = features"
      ]
    },
    {
      "cell_type": "code",
      "execution_count": 10,
      "metadata": {},
      "outputs": [
        {
          "name": "stderr",
          "output_type": "stream",
          "text": [
            "C:\\Users\\Manish Seal\\AppData\\Roaming\\Python\\Python311\\site-packages\\sklearn\\preprocessing\\_encoders.py:972: FutureWarning: `sparse` was renamed to `sparse_output` in version 1.2 and will be removed in 1.4. `sparse_output` is ignored unless you leave `sparse` to its default value.\n",
            "  warnings.warn(\n"
          ]
        }
      ],
      "source": [
        "# Identifying the columns that are of type object\n",
        "categorical_col = []\n",
        "for names in X_train_2label.columns:\n",
        "  if X_train_2label[names].dtypes in ['object']:\n",
        "    categorical_col.append(names)\n",
        "\n",
        "## One Hot Encoding the categorical columns (train)\n",
        "# Initialize the OneHotEncoder\n",
        "encoder = OneHotEncoder(sparse=False, handle_unknown='ignore')\n",
        "\n",
        "# Fit and transform the specified columns\n",
        "encoded_columns = encoder.fit_transform(X_train_2label[categorical_col])\n",
        "\n",
        "# Create a DataFrame from the one-hot encoded columns\n",
        "encoded_df = pd.DataFrame(encoded_columns, columns=encoder.get_feature_names_out(categorical_col))\n",
        "\n",
        "# Concatenate the one-hot encoded DataFrame with the original DataFrame\n",
        "X_train_2label = pd.concat([X_train_2label, encoded_df], axis=1)\n",
        "X_train_3label = pd.concat([X_train_3label, encoded_df], axis=1)\n",
        "\n",
        "# Drop the original categorical columns if needed\n",
        "X_train_2label = X_train_2label.drop(categorical_col, axis=1)\n",
        "X_train_3label = X_train_3label.drop(categorical_col, axis=1)"
      ]
    },
    {
      "cell_type": "code",
      "execution_count": 11,
      "metadata": {},
      "outputs": [
        {
          "name": "stderr",
          "output_type": "stream",
          "text": [
            "C:\\Users\\Manish Seal\\AppData\\Roaming\\Python\\Python311\\site-packages\\sklearn\\preprocessing\\_encoders.py:972: FutureWarning: `sparse` was renamed to `sparse_output` in version 1.2 and will be removed in 1.4. `sparse_output` is ignored unless you leave `sparse` to its default value.\n",
            "  warnings.warn(\n"
          ]
        }
      ],
      "source": [
        "## One Hot Encoding the categorical columns (test)\n",
        "# Initialize the OneHotEncoder\n",
        "encoder = OneHotEncoder(sparse=False, handle_unknown='ignore')\n",
        "\n",
        "# Fit and transform the specified columns\n",
        "encoded_columns = encoder.fit_transform(X_test_2label[categorical_col])\n",
        "\n",
        "# Create a DataFrame from the one-hot encoded columns\n",
        "encoded_df = pd.DataFrame(encoded_columns, columns=encoder.get_feature_names_out(categorical_col))\n",
        "\n",
        "# Concatenate the one-hot encoded DataFrame with the original DataFrame\n",
        "X_test_2label = pd.concat([X_test_2label, encoded_df], axis=1)\n",
        "X_test_3label = pd.concat([X_test_3label, encoded_df], axis=1)\n",
        "\n",
        "# Drop the original categorical columns if needed\n",
        "X_test_2label = X_test_2label.drop(categorical_col, axis=1)\n",
        "X_test_3label = X_test_3label.drop(categorical_col, axis=1)"
      ]
    },
    {
      "cell_type": "code",
      "execution_count": 12,
      "metadata": {},
      "outputs": [
        {
          "data": {
            "image/png": "[encoded data removed]",
            "text/plain": [
              "<Figure size 1000x600 with 1 Axes>"
            ]
          },
          "metadata": {},
          "output_type": "display_data"
        }
      ],
      "source": [
        "# Feature Selection by Filter method\n",
        "# Information Gain\n",
        "importances = mutual_info_classif(X_train_2label, y_train_2label)\n",
        "feat_importances = pd.Series(importances, X_train_2label.columns)\n",
        "\n",
        "# Select the top 10 features\n",
        "top_10_feats = feat_importances.nlargest(10)\n",
        "\n",
        "plt.figure(figsize=(10, 6))\n",
        "top_10_feats.plot(kind='barh', color='teal')\n",
        "plt.show()"
      ]
    },
    {
      "cell_type": "code",
      "execution_count": 13,
      "metadata": {},
      "outputs": [
        {
          "name": "stdout",
          "output_type": "stream",
          "text": [
            "['DAYS_BIRTH', 'DAYS_EMPLOYED', 'FLAG_PHONE_0', 'FLAG_WORK_PHONE_0', 'FLAG_OWN_REALTY_Y', 'NAME_HOUSING_TYPE_House / apartment', 'CODE_GENDER_F', 'NAME_EDUCATION_TYPE_Secondary / secondary special', 'FLAG_OWN_CAR_N', 'FLAG_EMAIL_0']\n"
          ]
        }
      ],
      "source": [
        "# From here, we will use the top 10 features for the Neural Network Model\n",
        "top_10 = top_10_feats.index.to_list()\n",
        "print(top_10)"
      ]
    },
    {
      "cell_type": "code",
      "execution_count": 14,
      "metadata": {},
      "outputs": [],
      "source": [
        "data_list = [\n",
        "    X_train_2label,\n",
        "    y_train_2label,\n",
        "    X_test_2label,\n",
        "    y_test_2label,\n",
        "    X_train_3label,\n",
        "    y_train_3label,\n",
        "    X_test_3label,\n",
        "    y_test_3label\n",
        "]\n",
        "\n",
        "import pickle\n",
        "data_list_filepath = \"../data/my_pickled_data.pkl\"\n",
        "with open(data_list_filepath,\"wb\") as file:\n",
        "    pickle.dump(data_list,file)"
      ]
    },
    {
      "cell_type": "code",
      "execution_count": null,
      "metadata": {},
      "outputs": [],
      "source": []
    }
  ],
  "metadata": {
    "colab": {
      "provenance": []
    },
    "kernelspec": {
      "display_name": "Python 3",
      "name": "python3"
    },
    "language_info": {
      "codemirror_mode": {
        "name": "ipython",
        "version": 3
      },
      "file_extension": ".py",
      "mimetype": "text/x-python",
      "name": "python",
      "nbconvert_exporter": "python",
      "pygments_lexer": "ipython3",
      "version": "3.11.4"
    }
  },
  "nbformat": 4,
  "nbformat_minor": 0
}
