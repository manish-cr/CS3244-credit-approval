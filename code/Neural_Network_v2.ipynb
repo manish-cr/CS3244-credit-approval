{
  "cells": [
    {
      "cell_type": "code",
      "execution_count": 1,
      "id": "5d9d0fd6",
      "metadata": {
        "id": "5d9d0fd6"
      },
      "outputs": [],
      "source": [
        "# Import libraries\n",
        "import numpy as np\n",
        "import pandas as pd\n",
        "import matplotlib.pyplot as plt\n",
        "%matplotlib inline\n",
        "\n",
        "import tensorflow as tf\n",
        "import tensorflow.keras as keras\n",
        "import tensorflow.keras.layers as layers\n",
        "\n",
        "from sklearn.feature_selection import mutual_info_classif\n",
        "from sklearn.model_selection import KFold, train_test_split\n",
        "from sklearn.compose import ColumnTransformer\n",
        "from sklearn.preprocessing import StandardScaler, OneHotEncoder, LabelEncoder"
      ]
    },
    {
      "cell_type": "code",
      "source": [
        "# Download cleaned data from project github\n",
        "url_application = \"https://raw.githubusercontent.com/manish-cr/CS3244-credit-approval/master/data/application_cleaned.csv\"\n",
        "\n",
        "# Download the 2 & 3 labelled data from project github\n",
        "test_data_2label_url = \"https://raw.githubusercontent.com/manish-cr/CS3244-credit-approval/master/data/credit_cleaned_test_twolabels.csv\"\n",
        "test_data_3label_url = \"https://raw.githubusercontent.com/manish-cr/CS3244-credit-approval/master/data/credit_cleaned_test_threelabels.csv\"\n",
        "\n",
        "train_data_2label_url = \"https://raw.githubusercontent.com/manish-cr/CS3244-credit-approval/master/data/credit_cleaned_training_twolabels.csv\"\n",
        "train_data_3label_url = \"https://raw.githubusercontent.com/manish-cr/CS3244-credit-approval/master/data/credit_cleaned_training_threelabels.csv\""
      ],
      "metadata": {
        "id": "LDXQHVQmQjhY"
      },
      "id": "LDXQHVQmQjhY",
      "execution_count": 2,
      "outputs": []
    },
    {
      "cell_type": "code",
      "source": [
        "# Train + Test data labels (2 label and 3 label versions)\n",
        "train_data_2label = pd.read_csv(train_data_2label_url)\n",
        "train_data_3label = pd.read_csv(train_data_3label_url)\n",
        "\n",
        "test_data_2label = pd.read_csv(test_data_2label_url)\n",
        "test_data_3label = pd.read_csv(test_data_3label_url)\n",
        "\n",
        "# Cleaned data\n",
        "application_df = pd.read_csv(url_application)"
      ],
      "metadata": {
        "id": "ZE3o_eJOQzfp"
      },
      "id": "ZE3o_eJOQzfp",
      "execution_count": 3,
      "outputs": []
    },
    {
      "cell_type": "code",
      "source": [
        "# Only the Label column is needed, ID is used as the key when merging the datasets\n",
        "credit_train_2label = train_data_2label[['ID', 'Credit_Status']]\n",
        "credit_train_3label = train_data_3label[['ID', 'Credit_Status']]\n",
        "\n",
        "credit_test_2label = test_data_2label[['ID', 'Credit_Status']]\n",
        "credit_test_3label = test_data_3label[['ID', 'Credit_Status']]"
      ],
      "metadata": {
        "id": "KeGvezbeoyRl"
      },
      "id": "KeGvezbeoyRl",
      "execution_count": 4,
      "outputs": []
    },
    {
      "cell_type": "code",
      "source": [
        "# Merging application and credit csv based on ID\n",
        "train_2label_df = pd.merge(application_df, credit_train_2label, how=\"inner\", on=\"ID\").loc[:,'ID':]\n",
        "test_2label_df = pd.merge(application_df, credit_test_2label, how=\"inner\", on=\"ID\").loc[:,'ID':]\n",
        "\n",
        "train_3label_df = pd.merge(application_df, credit_train_3label, how=\"inner\", on=\"ID\").loc[:,'ID':]\n",
        "test_3label_df = pd.merge(application_df, credit_test_3label, how=\"inner\", on=\"ID\").loc[:,'ID':]"
      ],
      "metadata": {
        "id": "qbg0ElDYszqJ"
      },
      "id": "qbg0ElDYszqJ",
      "execution_count": 5,
      "outputs": []
    },
    {
      "cell_type": "code",
      "source": [
        "# need to fix these dtype from int64 to categorical\n",
        "columns_to_convert = ['FLAG_WORK_PHONE', 'FLAG_PHONE', 'FLAG_EMAIL']\n",
        "\n",
        "# Convert the data type of the specified columns to object\n",
        "train_2label_df[columns_to_convert] = train_2label_df[columns_to_convert].astype('object')\n",
        "train_3label_df[columns_to_convert] = train_3label_df[columns_to_convert].astype('object')\n",
        "\n",
        "test_2label_df[columns_to_convert] = test_2label_df[columns_to_convert].astype('object')\n",
        "test_3label_df[columns_to_convert] = test_3label_df[columns_to_convert].astype('object')"
      ],
      "metadata": {
        "id": "CLueX93VtEQ1"
      },
      "id": "CLueX93VtEQ1",
      "execution_count": 6,
      "outputs": []
    },
    {
      "cell_type": "code",
      "source": [
        "# Separating the data into X and y\n",
        "X_train_2label = train_2label_df.loc[:, \"CODE_GENDER\":\"CNT_FAM_MEMBERS\"]\n",
        "y_train_2label = train_2label_df[\"Credit_Status\"]\n",
        "\n",
        "X_train_3label = train_3label_df.loc[:, \"CODE_GENDER\":\"CNT_FAM_MEMBERS\"]\n",
        "y_train_3label = train_3label_df[\"Credit_Status\"]\n",
        "\n",
        "X_test_2label = test_2label_df.loc[:, \"CODE_GENDER\":\"CNT_FAM_MEMBERS\"]\n",
        "y_test_2label = test_2label_df[\"Credit_Status\"]\n",
        "\n",
        "X_test_3label = test_3label_df.loc[:, \"CODE_GENDER\":\"CNT_FAM_MEMBERS\"]\n",
        "y_test_3label = test_3label_df[\"Credit_Status\"]"
      ],
      "metadata": {
        "id": "5vCOghJJt2_R"
      },
      "id": "5vCOghJJt2_R",
      "execution_count": 7,
      "outputs": []
    },
    {
      "cell_type": "code",
      "execution_count": 8,
      "id": "ec30b8a1",
      "metadata": {
        "id": "ec30b8a1"
      },
      "outputs": [],
      "source": [
        "# Identifying the columns that are of type int64 and float64 (for train)\n",
        "numeric_col = []\n",
        "for names in X_train_2label.columns:\n",
        "  if X_train_2label[names].dtypes in ['int64', 'float64']:\n",
        "    numeric_col.append(names)\n",
        "\n",
        "# Standardising the columns of type int64 and float64\n",
        "features = X_train_2label[numeric_col]\n",
        "scaler = StandardScaler().fit(features.values)\n",
        "features = scaler.transform(features.values)\n",
        "X_train_2label[numeric_col] = features\n",
        "\n",
        "features = X_train_3label[numeric_col]\n",
        "scaler = StandardScaler().fit(features.values)\n",
        "features = scaler.transform(features.values)\n",
        "X_train_3label[numeric_col] = features\n",
        "\n",
        "# for test\n",
        "features = X_test_2label[numeric_col]\n",
        "scaler = StandardScaler().fit(features.values)\n",
        "features = scaler.transform(features.values)\n",
        "X_test_2label[numeric_col] = features\n",
        "\n",
        "features = X_test_3label[numeric_col]\n",
        "scaler = StandardScaler().fit(features.values)\n",
        "features = scaler.transform(features.values)\n",
        "X_test_3label[numeric_col] = features"
      ]
    },
    {
      "cell_type": "code",
      "source": [
        "# Identifying the columns that are of type object\n",
        "categorical_col = []\n",
        "for names in X_train_2label.columns:\n",
        "  if X_train_2label[names].dtypes in ['object']:\n",
        "    categorical_col.append(names)\n",
        "\n",
        "## One Hot Encoding the categorical columns (train)\n",
        "# Initialize the OneHotEncoder\n",
        "encoder = OneHotEncoder(sparse=False, handle_unknown='ignore')\n",
        "\n",
        "# Fit and transform the specified columns\n",
        "encoded_columns = encoder.fit_transform(X_train_2label[categorical_col])\n",
        "\n",
        "# Create a DataFrame from the one-hot encoded columns\n",
        "encoded_df = pd.DataFrame(encoded_columns, columns=encoder.get_feature_names_out(categorical_col))\n",
        "\n",
        "# Concatenate the one-hot encoded DataFrame with the original DataFrame\n",
        "X_train_2label = pd.concat([X_train_2label, encoded_df], axis=1)\n",
        "X_train_3label = pd.concat([X_train_3label, encoded_df], axis=1)\n",
        "\n",
        "# Drop the original categorical columns if needed\n",
        "X_train_2label = X_train_2label.drop(categorical_col, axis=1)\n",
        "X_train_3label = X_train_3label.drop(categorical_col, axis=1)"
      ],
      "metadata": {
        "colab": {
          "base_uri": "https://localhost:8080/"
        },
        "id": "Snx_qIk8xMDI",
        "outputId": "b5388e30-6ae8-4cb7-a415-518f18140839"
      },
      "id": "Snx_qIk8xMDI",
      "execution_count": 9,
      "outputs": [
        {
          "output_type": "stream",
          "name": "stderr",
          "text": [
            "/usr/local/lib/python3.10/dist-packages/sklearn/preprocessing/_encoders.py:868: FutureWarning: `sparse` was renamed to `sparse_output` in version 1.2 and will be removed in 1.4. `sparse_output` is ignored unless you leave `sparse` to its default value.\n",
            "  warnings.warn(\n"
          ]
        }
      ]
    },
    {
      "cell_type": "code",
      "source": [
        "## One Hot Encoding the categorical columns (test)\n",
        "# Initialize the OneHotEncoder\n",
        "encoder = OneHotEncoder(sparse=False, handle_unknown='ignore')\n",
        "\n",
        "# Fit and transform the specified columns\n",
        "encoded_columns = encoder.fit_transform(X_test_2label[categorical_col])\n",
        "\n",
        "# Create a DataFrame from the one-hot encoded columns\n",
        "encoded_df = pd.DataFrame(encoded_columns, columns=encoder.get_feature_names_out(categorical_col))\n",
        "\n",
        "# Concatenate the one-hot encoded DataFrame with the original DataFrame\n",
        "X_test_2label = pd.concat([X_test_2label, encoded_df], axis=1)\n",
        "X_test_3label = pd.concat([X_test_3label, encoded_df], axis=1)\n",
        "\n",
        "# Drop the original categorical columns if needed\n",
        "X_test_2label = X_test_2label.drop(categorical_col, axis=1)\n",
        "X_test_3label = X_test_3label.drop(categorical_col, axis=1)"
      ],
      "metadata": {
        "colab": {
          "base_uri": "https://localhost:8080/"
        },
        "id": "B7yCrktAy8Ru",
        "outputId": "a734be8e-7890-4664-87ca-d2fc9d051548"
      },
      "id": "B7yCrktAy8Ru",
      "execution_count": 10,
      "outputs": [
        {
          "output_type": "stream",
          "name": "stderr",
          "text": [
            "/usr/local/lib/python3.10/dist-packages/sklearn/preprocessing/_encoders.py:868: FutureWarning: `sparse` was renamed to `sparse_output` in version 1.2 and will be removed in 1.4. `sparse_output` is ignored unless you leave `sparse` to its default value.\n",
            "  warnings.warn(\n"
          ]
        }
      ]
    },
    {
      "cell_type": "code",
      "source": [
        "# Feature Selection by Filter method\n",
        "# Information Gain\n",
        "importances = mutual_info_classif(X_train_2label, y_train_2label)\n",
        "feat_importances = pd.Series(importances, X_train_2label.columns)\n",
        "\n",
        "# Select the top 10 features\n",
        "top_10_feats = feat_importances.nlargest(10)\n",
        "\n",
        "plt.figure(figsize=(10, 6))\n",
        "top_10_feats.plot(kind='barh', color='teal')\n",
        "plt.show()"
      ],
      "metadata": {
        "colab": {
          "base_uri": "https://localhost:8080/",
          "height": 522
        },
        "id": "HqSHGUUJzQk1",
        "outputId": "abd16fbf-9d7c-4abd-f31b-169b20137473"
      },
      "id": "HqSHGUUJzQk1",
      "execution_count": 11,
      "outputs": [
        {
          "output_type": "display_data",
          "data": {
            "text/plain": [
              "<Figure size 1000x600 with 1 Axes>"
            ],
            "image/png": "[encoded data removed]"
          },
          "metadata": {}
        }
      ]
    },
    {
      "cell_type": "code",
      "source": [
        "# From here, we will use the top 10 features for the Neural Network Model\n",
        "top_10 = top_10_feats.index.to_list()\n",
        "print(top_10)"
      ],
      "metadata": {
        "colab": {
          "base_uri": "https://localhost:8080/"
        },
        "id": "-Mw2AS0Gz4nz",
        "outputId": "3337b1e8-bc09-476b-9186-28c1ac08d46e"
      },
      "id": "-Mw2AS0Gz4nz",
      "execution_count": 12,
      "outputs": [
        {
          "output_type": "stream",
          "name": "stdout",
          "text": [
            "['DAYS_EMPLOYED', 'DAYS_BIRTH', 'CODE_GENDER_F', 'FLAG_WORK_PHONE_0', 'FLAG_PHONE_0', 'NAME_HOUSING_TYPE_House / apartment', 'FLAG_OWN_CAR_N', 'FLAG_OWN_REALTY_Y', 'NAME_FAMILY_STATUS_Married', 'NAME_EDUCATION_TYPE_Secondary / secondary special']\n"
          ]
        }
      ]
    },
    {
      "cell_type": "code",
      "source": [
        "# Select only the top 10 features\n",
        "X_train_2label_top_10 = X_train_2label.loc[:, top_10]\n",
        "X_train_3label_top_10 = X_train_3label.loc[:, top_10]\n",
        "\n",
        "X_test_2label_top_10 = X_test_2label.loc[:, top_10]\n",
        "X_test_3label_top_10 = X_test_3label.loc[:, top_10]"
      ],
      "metadata": {
        "id": "TUdAPlOY2qI4"
      },
      "id": "TUdAPlOY2qI4",
      "execution_count": 13,
      "outputs": []
    },
    {
      "cell_type": "code",
      "execution_count": 14,
      "id": "463b0184",
      "metadata": {
        "colab": {
          "base_uri": "https://localhost:8080/"
        },
        "id": "463b0184",
        "outputId": "09cd3ec1-a20d-4c60-9abf-1ed3d04bf1c3"
      },
      "outputs": [
        {
          "output_type": "execute_result",
          "data": {
            "text/plain": [
              "((29245, 10), (7212, 10), (29245,), (7212,))"
            ]
          },
          "metadata": {},
          "execution_count": 14
        }
      ],
      "source": [
        "# Checking shapes to make sure everything fits\n",
        "# X_train.info() 10 cols\n",
        "X_train_2label_top_10.shape,X_test_2label_top_10.shape,y_train_2label.shape,y_test_2label.shape"
      ]
    },
    {
      "cell_type": "code",
      "source": [
        "# We will then test by 2 / 3 labels\n",
        "# Starting with 2 labels\n",
        "# Label encoding y_train and y_test\n",
        "\n",
        "le = LabelEncoder()\n",
        "le.fit(y_train_2label)\n",
        "y_train_encoded = le.transform(y_train_2label)\n",
        "y_test_encoded = le.transform(y_test_2label)"
      ],
      "metadata": {
        "id": "-nqvSPdSZcKs"
      },
      "id": "-nqvSPdSZcKs",
      "execution_count": 15,
      "outputs": []
    },
    {
      "cell_type": "code",
      "execution_count": 16,
      "id": "33eaffaf",
      "metadata": {
        "colab": {
          "base_uri": "https://localhost:8080/"
        },
        "id": "33eaffaf",
        "outputId": "9eb1cf26-2de9-42bf-e7cd-0e27308ba53a"
      },
      "outputs": [
        {
          "output_type": "stream",
          "name": "stdout",
          "text": [
            "Epoch 1/5\n",
            "914/914 [==============================] - 3s 2ms/step - loss: 0.1355 - accuracy: 0.9771\n",
            "Epoch 2/5\n",
            "914/914 [==============================] - 3s 3ms/step - loss: 0.1119 - accuracy: 0.9771\n",
            "Epoch 3/5\n",
            "914/914 [==============================] - 2s 3ms/step - loss: 0.1102 - accuracy: 0.9771\n",
            "Epoch 4/5\n",
            "914/914 [==============================] - 2s 2ms/step - loss: 0.1093 - accuracy: 0.9771\n",
            "Epoch 5/5\n",
            "914/914 [==============================] - 2s 2ms/step - loss: 0.1090 - accuracy: 0.9771\n"
          ]
        },
        {
          "output_type": "execute_result",
          "data": {
            "text/plain": [
              "<keras.src.callbacks.History at 0x79bcd3fafc10>"
            ]
          },
          "metadata": {},
          "execution_count": 16
        }
      ],
      "source": [
        "# Set random seed\n",
        "tf.random.set_seed(0)\n",
        "\n",
        "# 1. Create the model using the Sequential API\n",
        "# Input Layer: number of features\n",
        "# For hidden layer: the number of neurons should be in between the input data dimension and the output data dimension.\n",
        "# Last layer: number of classes\n",
        "model = keras.Sequential([layers.Dense(10, activation='relu'),\n",
        "                          layers.Dense(6, activation='relu'),\n",
        "                          layers.Dense(1, activation='sigmoid')])\n",
        "\n",
        "# 2. Compile the model\n",
        "model.compile(loss=\"binary_crossentropy\",\n",
        "              optimizer= \"adam\",\n",
        "              metrics=[\"accuracy\"])\n",
        "\n",
        "# 3. Fit the model\n",
        "model.fit(X_train_2label_top_10, y_train_encoded, epochs=5)"
      ]
    },
    {
      "cell_type": "code",
      "source": [
        "# Evaluate Model with test data\n",
        "score_2label = model.evaluate(x=X_test_2label_top_10, y=y_test_encoded)\n",
        "print(\"2-label Test loss:\", score_2label[0])\n",
        "print(\"2-label Test Accuracy: \", score_2label[1])"
      ],
      "metadata": {
        "colab": {
          "base_uri": "https://localhost:8080/"
        },
        "id": "xWyqrzdba7yU",
        "outputId": "6da4ab7d-8ae3-4e77-9f9d-7648ce548cb0"
      },
      "id": "xWyqrzdba7yU",
      "execution_count": 17,
      "outputs": [
        {
          "output_type": "stream",
          "name": "stdout",
          "text": [
            "226/226 [==============================] - 1s 2ms/step - loss: 0.1166 - accuracy: 0.9753\n",
            "2-label Test loss: 0.11656437814235687\n",
            "2-label Test Accuracy:  0.9753189086914062\n"
          ]
        }
      ]
    },
    {
      "cell_type": "code",
      "source": [
        "# Now 3 labels\n",
        "# Label encoding y_train and y_test\n",
        "\n",
        "le = LabelEncoder()\n",
        "le.fit(y_train_3label)\n",
        "y_train_encoded = le.transform(y_train_3label)\n",
        "y_test_encoded = le.transform(y_test_3label)"
      ],
      "metadata": {
        "id": "IZ4dFOXC6M9P"
      },
      "execution_count": 18,
      "outputs": [],
      "id": "IZ4dFOXC6M9P"
    },
    {
      "cell_type": "code",
      "execution_count": 19,
      "metadata": {
        "colab": {
          "base_uri": "https://localhost:8080/"
        },
        "outputId": "9f6e03c0-0aeb-46e6-8487-041f4142379f",
        "id": "FRs4KdKi4ev6"
      },
      "outputs": [
        {
          "output_type": "stream",
          "name": "stdout",
          "text": [
            "Epoch 1/5\n",
            "914/914 [==============================] - 3s 2ms/step - loss: 0.4338 - sparse_categorical_accuracy: 0.8848\n",
            "Epoch 2/5\n",
            "914/914 [==============================] - 2s 2ms/step - loss: 0.4190 - sparse_categorical_accuracy: 0.8849\n",
            "Epoch 3/5\n",
            "914/914 [==============================] - 2s 2ms/step - loss: 0.4162 - sparse_categorical_accuracy: 0.8849\n",
            "Epoch 4/5\n",
            "914/914 [==============================] - 2s 2ms/step - loss: 0.4149 - sparse_categorical_accuracy: 0.8849\n",
            "Epoch 5/5\n",
            "914/914 [==============================] - 3s 3ms/step - loss: 0.4141 - sparse_categorical_accuracy: 0.8849\n"
          ]
        },
        {
          "output_type": "execute_result",
          "data": {
            "text/plain": [
              "<keras.src.callbacks.History at 0x79bcd04a22c0>"
            ]
          },
          "metadata": {},
          "execution_count": 19
        }
      ],
      "source": [
        "# Set random seed\n",
        "tf.random.set_seed(0)\n",
        "\n",
        "# 1. Create the model using the Sequential API\n",
        "# Input Layer: number of features\n",
        "# For hidden layer: the number of neurons should be in between the input data dimension and the output data dimension.\n",
        "# Last layer: number of classes\n",
        "# sparse categorical crossentropy is appropriate for cases where the classes are mutually exclusive, meaning each sample belongs to only one class.\n",
        "model = keras.Sequential([layers.Dense(10, activation='relu'),\n",
        "                          layers.Dense(6, activation='relu'),\n",
        "                          layers.Dense(3, activation='softmax')])\n",
        "\n",
        "# 2. Compile the model\n",
        "model.compile(loss=\"sparse_categorical_crossentropy\",\n",
        "              optimizer= \"adam\",\n",
        "              metrics=['sparse_categorical_accuracy'])\n",
        "\n",
        "# 3. Fit the model\n",
        "model.fit(X_train_3label_top_10, y_train_encoded, epochs=5)"
      ],
      "id": "FRs4KdKi4ev6"
    },
    {
      "cell_type": "code",
      "source": [
        "# Evaluate Model with test data\n",
        "score_3label = model.evaluate(x=X_test_3label_top_10, y=y_test_encoded)\n",
        "print(\"3-label Test loss:\", score_3label[0])\n",
        "print(\"3-label Test Accuracy: \", score_3label[1])"
      ],
      "metadata": {
        "colab": {
          "base_uri": "https://localhost:8080/"
        },
        "outputId": "d72f1dab-1d60-4a82-bc81-a96b0f1f9a79",
        "id": "vIK96ep_5Iho"
      },
      "execution_count": 20,
      "outputs": [
        {
          "output_type": "stream",
          "name": "stdout",
          "text": [
            "226/226 [==============================] - 1s 3ms/step - loss: 0.4163 - sparse_categorical_accuracy: 0.8853\n",
            "3-label Test loss: 0.4162750542163849\n",
            "3-label Test Accuracy:  0.8853300213813782\n"
          ]
        }
      ],
      "id": "vIK96ep_5Iho"
    },
    {
      "cell_type": "code",
      "source": [
        "# In Summary\n",
        "print(\"2-label Test loss:\", score_2label[0])\n",
        "print(\"2-label Test Accuracy: \", score_2label[1])\n",
        "print(\"\")\n",
        "print(\"3-label Test loss:\", score_3label[0])\n",
        "print(\"3-label Test Accuracy: \", score_3label[1])\n",
        "# 2 label model performed better"
      ],
      "metadata": {
        "colab": {
          "base_uri": "https://localhost:8080/"
        },
        "id": "SQaeGnfl7D8_",
        "outputId": "99e43a09-8a57-4b25-932f-bf1658d3b5b7"
      },
      "id": "SQaeGnfl7D8_",
      "execution_count": 21,
      "outputs": [
        {
          "output_type": "stream",
          "name": "stdout",
          "text": [
            "2-label Test loss: 0.11656437814235687\n",
            "2-label Test Accuracy:  0.9753189086914062\n",
            "\n",
            "3-label Test loss: 0.4162750542163849\n",
            "3-label Test Accuracy:  0.8853300213813782\n"
          ]
        }
      ]
    }
  ],
  "metadata": {
    "kernelspec": {
      "display_name": "Python 3 (ipykernel)",
      "language": "python",
      "name": "python3"
    },
    "language_info": {
      "codemirror_mode": {
        "name": "ipython",
        "version": 3
      },
      "file_extension": ".py",
      "mimetype": "text/x-python",
      "name": "python",
      "nbconvert_exporter": "python",
      "pygments_lexer": "ipython3",
      "version": "3.9.13"
    },
    "colab": {
      "provenance": []
    }
  },
  "nbformat": 4,
  "nbformat_minor": 5
}