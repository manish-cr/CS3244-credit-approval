{
  "cells": [
    {
      "cell_type": "code",
      "execution_count": 1,
      "id": "5d9d0fd6",
      "metadata": {
        "id": "5d9d0fd6"
      },
      "outputs": [],
      "source": [
        "# Import libraries\n",
        "import numpy as np\n",
        "import pandas as pd\n",
        "import pickle\n",
        "\n",
        "import tensorflow as tf\n",
        "import tensorflow.keras as keras\n",
        "import tensorflow.keras.layers as layers\n",
        "\n",
        "from sklearn.model_selection import KFold\n",
        "from sklearn.preprocessing import LabelEncoder"
      ]
    },
    {
      "cell_type": "code",
      "execution_count": 2,
      "id": "bffa0fee",
      "metadata": {
        "id": "bffa0fee"
      },
      "outputs": [],
      "source": [
        "# Opening up the files\n",
        "#with open(\"../data/my_pickled_data.pkl\",\"rb\") as file:\n",
        "#    data_list=pickle.load(file)"
      ]
    },
    {
      "cell_type": "code",
      "source": [
        "#Using google colab\n",
        "from google.colab import drive\n",
        "drive.mount('/content/drive')"
      ],
      "metadata": {
        "colab": {
          "base_uri": "https://localhost:8080/"
        },
        "id": "LDXQHVQmQjhY",
        "outputId": "5ba16b67-f0b7-48dc-dbad-4f55fc59e708"
      },
      "id": "LDXQHVQmQjhY",
      "execution_count": 3,
      "outputs": [
        {
          "output_type": "stream",
          "name": "stdout",
          "text": [
            "Drive already mounted at /content/drive; to attempt to forcibly remount, call drive.mount(\"/content/drive\", force_remount=True).\n"
          ]
        }
      ]
    },
    {
      "cell_type": "code",
      "source": [
        "with open('/content/drive/MyDrive/my_pickled_data.pkl',\"rb\") as file:\n",
        "    data_list=pickle.load(file)"
      ],
      "metadata": {
        "id": "ZE3o_eJOQzfp"
      },
      "id": "ZE3o_eJOQzfp",
      "execution_count": 4,
      "outputs": []
    },
    {
      "cell_type": "code",
      "execution_count": 5,
      "id": "ec30b8a1",
      "metadata": {
        "id": "ec30b8a1"
      },
      "outputs": [],
      "source": [
        "# Extracting test/train splits\n",
        "X_train = data_list[0]\n",
        "y_train = data_list[1]\n",
        "X_test = data_list[2]\n",
        "y_test = data_list[3]"
      ]
    },
    {
      "cell_type": "code",
      "source": [
        "# Label encoding y_train and y_test\n",
        "le = LabelEncoder()\n",
        "le.fit(y_train)\n",
        "y_train_encoded = le.transform(y_train)\n",
        "y_test_encoded = le.transform(y_test)"
      ],
      "metadata": {
        "id": "-nqvSPdSZcKs"
      },
      "id": "-nqvSPdSZcKs",
      "execution_count": 6,
      "outputs": []
    },
    {
      "cell_type": "code",
      "execution_count": 7,
      "id": "463b0184",
      "metadata": {
        "colab": {
          "base_uri": "https://localhost:8080/"
        },
        "id": "463b0184",
        "outputId": "20e5462f-1fe3-46bd-e963-1b8e497b1aa6"
      },
      "outputs": [
        {
          "output_type": "execute_result",
          "data": {
            "text/plain": [
              "((29245, 58), (7212, 58), (29245,), (7212,))"
            ]
          },
          "metadata": {},
          "execution_count": 7
        }
      ],
      "source": [
        "# Checking shapes\n",
        "# X_train.info() 58 cols\n",
        "X_train.shape,X_test.shape,y_train.shape,y_test.shape"
      ]
    },
    {
      "cell_type": "code",
      "execution_count": 8,
      "id": "33eaffaf",
      "metadata": {
        "colab": {
          "base_uri": "https://localhost:8080/"
        },
        "id": "33eaffaf",
        "outputId": "418a3aff-6a0d-4d02-d67c-820ddf6eb740"
      },
      "outputs": [
        {
          "output_type": "stream",
          "name": "stdout",
          "text": [
            "Epoch 1/30\n",
            "914/914 [==============================] - 4s 3ms/step - loss: 0.9385 - sparse_categorical_accuracy: 0.4678\n",
            "Epoch 2/30\n",
            "914/914 [==============================] - 5s 5ms/step - loss: 0.9301 - sparse_categorical_accuracy: 0.4856\n",
            "Epoch 3/30\n",
            "914/914 [==============================] - 3s 4ms/step - loss: 0.9234 - sparse_categorical_accuracy: 0.4998\n",
            "Epoch 4/30\n",
            "914/914 [==============================] - 2s 2ms/step - loss: 0.9166 - sparse_categorical_accuracy: 0.5081\n",
            "Epoch 5/30\n",
            "914/914 [==============================] - 2s 2ms/step - loss: 0.9090 - sparse_categorical_accuracy: 0.5183\n",
            "Epoch 6/30\n",
            "914/914 [==============================] - 2s 2ms/step - loss: 0.9016 - sparse_categorical_accuracy: 0.5280\n",
            "Epoch 7/30\n",
            "914/914 [==============================] - 2s 2ms/step - loss: 0.8939 - sparse_categorical_accuracy: 0.5348\n",
            "Epoch 8/30\n",
            "914/914 [==============================] - 2s 2ms/step - loss: 0.8870 - sparse_categorical_accuracy: 0.5463\n",
            "Epoch 9/30\n",
            "914/914 [==============================] - 2s 3ms/step - loss: 0.8796 - sparse_categorical_accuracy: 0.5506\n",
            "Epoch 10/30\n",
            "914/914 [==============================] - 2s 2ms/step - loss: 0.8751 - sparse_categorical_accuracy: 0.5549\n",
            "Epoch 11/30\n",
            "914/914 [==============================] - 2s 2ms/step - loss: 0.8687 - sparse_categorical_accuracy: 0.5610\n",
            "Epoch 12/30\n",
            "914/914 [==============================] - 2s 2ms/step - loss: 0.8626 - sparse_categorical_accuracy: 0.5681\n",
            "Epoch 13/30\n",
            "914/914 [==============================] - 2s 2ms/step - loss: 0.8577 - sparse_categorical_accuracy: 0.5693\n",
            "Epoch 14/30\n",
            "914/914 [==============================] - 2s 2ms/step - loss: 0.8539 - sparse_categorical_accuracy: 0.5756\n",
            "Epoch 15/30\n",
            "914/914 [==============================] - 2s 2ms/step - loss: 0.8497 - sparse_categorical_accuracy: 0.5782\n",
            "Epoch 16/30\n",
            "914/914 [==============================] - 2s 2ms/step - loss: 0.8455 - sparse_categorical_accuracy: 0.5816\n",
            "Epoch 17/30\n",
            "914/914 [==============================] - 2s 3ms/step - loss: 0.8414 - sparse_categorical_accuracy: 0.5819\n",
            "Epoch 18/30\n",
            "914/914 [==============================] - 2s 2ms/step - loss: 0.8395 - sparse_categorical_accuracy: 0.5824\n",
            "Epoch 19/30\n",
            "914/914 [==============================] - 2s 2ms/step - loss: 0.8360 - sparse_categorical_accuracy: 0.5872\n",
            "Epoch 20/30\n",
            "914/914 [==============================] - 2s 2ms/step - loss: 0.8327 - sparse_categorical_accuracy: 0.5893\n",
            "Epoch 21/30\n",
            "914/914 [==============================] - 2s 2ms/step - loss: 0.8301 - sparse_categorical_accuracy: 0.5934\n",
            "Epoch 22/30\n",
            "914/914 [==============================] - 2s 2ms/step - loss: 0.8273 - sparse_categorical_accuracy: 0.5919\n",
            "Epoch 23/30\n",
            "914/914 [==============================] - 2s 2ms/step - loss: 0.8254 - sparse_categorical_accuracy: 0.5943\n",
            "Epoch 24/30\n",
            "914/914 [==============================] - 2s 2ms/step - loss: 0.8225 - sparse_categorical_accuracy: 0.5956\n",
            "Epoch 25/30\n",
            "914/914 [==============================] - 2s 3ms/step - loss: 0.8215 - sparse_categorical_accuracy: 0.5942\n",
            "Epoch 26/30\n",
            "914/914 [==============================] - 2s 2ms/step - loss: 0.8189 - sparse_categorical_accuracy: 0.5994\n",
            "Epoch 27/30\n",
            "914/914 [==============================] - 2s 2ms/step - loss: 0.8171 - sparse_categorical_accuracy: 0.5996\n",
            "Epoch 28/30\n",
            "914/914 [==============================] - 2s 2ms/step - loss: 0.8150 - sparse_categorical_accuracy: 0.6008\n",
            "Epoch 29/30\n",
            "914/914 [==============================] - 2s 2ms/step - loss: 0.8133 - sparse_categorical_accuracy: 0.6001\n",
            "Epoch 30/30\n",
            "914/914 [==============================] - 2s 2ms/step - loss: 0.8113 - sparse_categorical_accuracy: 0.6022\n"
          ]
        },
        {
          "output_type": "execute_result",
          "data": {
            "text/plain": [
              "<keras.src.callbacks.History at 0x7863d2f993c0>"
            ]
          },
          "metadata": {},
          "execution_count": 8
        }
      ],
      "source": [
        "# Set random seed\n",
        "tf.random.set_seed(0)\n",
        "\n",
        "# 1. Create the model using the Sequential API\n",
        "# Input Layer: number of features\n",
        "# For hidden layer: the number of neurons should be in between the input data dimension and the output data dimension.\n",
        "# Last layer: number of classes\n",
        "model = keras.Sequential([layers.Dense(58, activation='relu'),\n",
        "                          layers.Dense(31, activation='relu'),\n",
        "                          layers.Dense(3, activation='softmax')])\n",
        "\n",
        "# 2. Compile the model\n",
        "model.compile(loss=\"sparse_categorical_crossentropy\",\n",
        "              optimizer= \"adam\",\n",
        "              metrics=['sparse_categorical_accuracy'])\n",
        "\n",
        "# 3. Fit the model\n",
        "model.fit(X_train, y_train_encoded, epochs=30)\n"
      ]
    },
    {
      "cell_type": "code",
      "source": [
        "# Evaluate Model with test data\n",
        "score = model.evaluate(x=X_test, y=y_test_encoded)\n",
        "print(\"Test loss:\", score[0])\n",
        "print(\"Test Accuracy: \", score[1])"
      ],
      "metadata": {
        "colab": {
          "base_uri": "https://localhost:8080/"
        },
        "id": "xWyqrzdba7yU",
        "outputId": "670a3a5e-9a69-432f-ebbe-622b4a788d6e"
      },
      "id": "xWyqrzdba7yU",
      "execution_count": 9,
      "outputs": [
        {
          "output_type": "stream",
          "name": "stdout",
          "text": [
            "226/226 [==============================] - 1s 2ms/step - loss: 0.9209 - sparse_categorical_accuracy: 0.5263\n",
            "Test loss: 0.9209002256393433\n",
            "Test Accuracy:  0.5263449549674988\n"
          ]
        }
      ]
    }
  ],
  "metadata": {
    "kernelspec": {
      "display_name": "Python 3 (ipykernel)",
      "language": "python",
      "name": "python3"
    },
    "language_info": {
      "codemirror_mode": {
        "name": "ipython",
        "version": 3
      },
      "file_extension": ".py",
      "mimetype": "text/x-python",
      "name": "python",
      "nbconvert_exporter": "python",
      "pygments_lexer": "ipython3",
      "version": "3.9.13"
    },
    "colab": {
      "provenance": []
    }
  },
  "nbformat": 4,
  "nbformat_minor": 5
}